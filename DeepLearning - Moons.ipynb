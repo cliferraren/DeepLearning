{
 "cells": [
  {
   "cell_type": "markdown",
   "metadata": {},
   "source": [
    "## Deep Learning - Moons"
   ]
  },
  {
   "cell_type": "markdown",
   "metadata": {},
   "source": [
    "---"
   ]
  },
  {
   "cell_type": "code",
   "execution_count": 1,
   "metadata": {},
   "outputs": [],
   "source": [
    "%matplotlib inline\n",
    "import matplotlib.pyplot as plt\n",
    "import numpy as np\n",
    "import sklearn\n",
    "import sklearn.datasets \n",
    "from numpy.random import seed\n",
    "seed(1)"
   ]
  },
  {
   "cell_type": "code",
   "execution_count": 2,
   "metadata": {},
   "outputs": [],
   "source": [
    "X, y = sklearn.datasets.make_moons(200, noise=0.05)"
   ]
  },
  {
   "cell_type": "code",
   "execution_count": 3,
   "metadata": {},
   "outputs": [
    {
     "data": {
      "text/plain": [
       "<matplotlib.collections.PathCollection at 0x7f4c9c110198>"
      ]
     },
     "execution_count": 3,
     "metadata": {},
     "output_type": "execute_result"
    },
    {
     "data": {
      "image/png": "[encoded data removed]",
      "text/plain": [
       "<Figure size 432x288 with 1 Axes>"
      ]
     },
     "metadata": {
      "needs_background": "light"
     },
     "output_type": "display_data"
    }
   ],
   "source": [
    "plt.scatter(X[:,0], X[:,1], c=y)"
   ]
  },
  {
   "cell_type": "code",
   "execution_count": 4,
   "metadata": {},
   "outputs": [],
   "source": [
    "#Use  the train_test_split to create training and testing data\n",
    "\n",
    "from sklearn.model_selection import train_test_split\n",
    "\n",
    "X_train, X_test, y_train, y_test = train_test_split(X,y,random_state=1)"
   ]
  },
  {
   "cell_type": "code",
   "execution_count": 5,
   "metadata": {},
   "outputs": [],
   "source": [
    "from sklearn.preprocessing import StandardScaler\n",
    "\n",
    "#Create a StandardScaler model and fit it to the training data\n",
    "X_scaler = StandardScaler().fit(X_train)"
   ]
  },
  {
   "cell_type": "code",
   "execution_count": 6,
   "metadata": {},
   "outputs": [],
   "source": [
    "#Transform the training and testing data using the X_scaler\n",
    "\n",
    "X_train_scaled = X_scaler.transform(X_train)\n",
    "X_test_scaled = X_scaler.transform(X_test)"
   ]
  },
  {
   "cell_type": "code",
   "execution_count": 19,
   "metadata": {},
   "outputs": [],
   "source": [
    "from keras.utils import to_categorical\n",
    "\n",
    "#One-Hot encoding \n",
    "y_train_categorical = to_categorical(y_train)\n",
    "y_test_categorical = to_categorical(y_test)"
   ]
  },
  {
   "cell_type": "code",
   "execution_count": 8,
   "metadata": {},
   "outputs": [],
   "source": [
    "#firsst, create a normal neutral nework with 2 inputs, 6 hidden nodes, and 2 outputs\n",
    "\n",
    "from keras.models import Sequential\n",
    "from keras.layers import Dense\n",
    "\n",
    "model = Sequential()\n",
    "model.add(Dense(units=6, activation='relu', input_dim=2))\n",
    "model.add(Dense(units=2, activation='softmax'))"
   ]
  },
  {
   "cell_type": "code",
   "execution_count": 9,
   "metadata": {},
   "outputs": [
    {
     "name": "stdout",
     "output_type": "stream",
     "text": [
      "_________________________________________________________________\n",
      "Layer (type)                 Output Shape              Param #   \n",
      "=================================================================\n",
      "dense_1 (Dense)              (None, 6)                 18        \n",
      "_________________________________________________________________\n",
      "dense_2 (Dense)              (None, 2)                 14        \n",
      "=================================================================\n",
      "Total params: 32\n",
      "Trainable params: 32\n",
      "Non-trainable params: 0\n",
      "_________________________________________________________________\n"
     ]
    }
   ],
   "source": [
    "model.summary()"
   ]
  },
  {
   "cell_type": "code",
   "execution_count": 10,
   "metadata": {},
   "outputs": [],
   "source": [
    "#Compile the model\n",
    "model.compile(optimizer='adam',\n",
    "             loss='categorical_crossentropy',\n",
    "             metrics=['accuracy'])"
   ]
  },
  {
   "cell_type": "code",
   "execution_count": 13,
   "metadata": {},
   "outputs": [
    {
     "name": "stdout",
     "output_type": "stream",
     "text": [
      "Epoch 1/100\n",
      " - 0s - loss: 0.6794 - acc: 0.5667\n",
      "Epoch 2/100\n",
      " - 0s - loss: 0.6691 - acc: 0.6067\n",
      "Epoch 3/100\n",
      " - 0s - loss: 0.6591 - acc: 0.6733\n",
      "Epoch 4/100\n",
      " - 0s - loss: 0.6490 - acc: 0.7200\n",
      "Epoch 5/100\n",
      " - 0s - loss: 0.6399 - acc: 0.7267\n",
      "Epoch 6/100\n",
      " - 0s - loss: 0.6306 - acc: 0.7467\n",
      "Epoch 7/100\n",
      " - 0s - loss: 0.6224 - acc: 0.7800\n",
      "Epoch 8/100\n",
      " - 0s - loss: 0.6137 - acc: 0.8067\n",
      "Epoch 9/100\n",
      " - 0s - loss: 0.6056 - acc: 0.8333\n",
      "Epoch 10/100\n",
      " - 0s - loss: 0.5977 - acc: 0.8533\n",
      "Epoch 11/100\n",
      " - 0s - loss: 0.5903 - acc: 0.8667\n",
      "Epoch 12/100\n",
      " - 0s - loss: 0.5824 - acc: 0.8733\n",
      "Epoch 13/100\n",
      " - 0s - loss: 0.5754 - acc: 0.8733\n",
      "Epoch 14/100\n",
      " - 0s - loss: 0.5682 - acc: 0.8733\n",
      "Epoch 15/100\n",
      " - 0s - loss: 0.5616 - acc: 0.8733\n",
      "Epoch 16/100\n",
      " - 0s - loss: 0.5548 - acc: 0.8733\n",
      "Epoch 17/100\n",
      " - 0s - loss: 0.5483 - acc: 0.8733\n",
      "Epoch 18/100\n",
      " - 0s - loss: 0.5419 - acc: 0.8733\n",
      "Epoch 19/100\n",
      " - 0s - loss: 0.5357 - acc: 0.8733\n",
      "Epoch 20/100\n",
      " - 0s - loss: 0.5295 - acc: 0.8733\n",
      "Epoch 21/100\n",
      " - 0s - loss: 0.5236 - acc: 0.8733\n",
      "Epoch 22/100\n",
      " - 0s - loss: 0.5177 - acc: 0.8733\n",
      "Epoch 23/100\n",
      " - 0s - loss: 0.5119 - acc: 0.8733\n",
      "Epoch 24/100\n",
      " - 0s - loss: 0.5060 - acc: 0.8800\n",
      "Epoch 25/100\n",
      " - 0s - loss: 0.5002 - acc: 0.8867\n",
      "Epoch 26/100\n",
      " - 0s - loss: 0.4946 - acc: 0.9000\n",
      "Epoch 27/100\n",
      " - 0s - loss: 0.4889 - acc: 0.9000\n",
      "Epoch 28/100\n",
      " - 0s - loss: 0.4831 - acc: 0.8933\n",
      "Epoch 29/100\n",
      " - 0s - loss: 0.4775 - acc: 0.8933\n",
      "Epoch 30/100\n",
      " - 0s - loss: 0.4717 - acc: 0.8933\n",
      "Epoch 31/100\n",
      " - 0s - loss: 0.4659 - acc: 0.8867\n",
      "Epoch 32/100\n",
      " - 0s - loss: 0.4603 - acc: 0.8867\n",
      "Epoch 33/100\n",
      " - 0s - loss: 0.4546 - acc: 0.8800\n",
      "Epoch 34/100\n",
      " - 0s - loss: 0.4490 - acc: 0.8800\n",
      "Epoch 35/100\n",
      " - 0s - loss: 0.4435 - acc: 0.8800\n",
      "Epoch 36/100\n",
      " - 0s - loss: 0.4380 - acc: 0.8800\n",
      "Epoch 37/100\n",
      " - 0s - loss: 0.4326 - acc: 0.8800\n",
      "Epoch 38/100\n",
      " - 0s - loss: 0.4274 - acc: 0.8800\n",
      "Epoch 39/100\n",
      " - 0s - loss: 0.4223 - acc: 0.8800\n",
      "Epoch 40/100\n",
      " - 0s - loss: 0.4171 - acc: 0.8800\n",
      "Epoch 41/100\n",
      " - 0s - loss: 0.4119 - acc: 0.8800\n",
      "Epoch 42/100\n",
      " - 0s - loss: 0.4071 - acc: 0.8800\n",
      "Epoch 43/100\n",
      " - 0s - loss: 0.4017 - acc: 0.8800\n",
      "Epoch 44/100\n",
      " - 0s - loss: 0.3971 - acc: 0.8800\n",
      "Epoch 45/100\n",
      " - 0s - loss: 0.3921 - acc: 0.8800\n",
      "Epoch 46/100\n",
      " - 0s - loss: 0.3874 - acc: 0.8800\n",
      "Epoch 47/100\n",
      " - 0s - loss: 0.3824 - acc: 0.8800\n",
      "Epoch 48/100\n",
      " - 0s - loss: 0.3779 - acc: 0.8800\n",
      "Epoch 49/100\n",
      " - 0s - loss: 0.3734 - acc: 0.8800\n",
      "Epoch 50/100\n",
      " - 0s - loss: 0.3688 - acc: 0.8800\n",
      "Epoch 51/100\n",
      " - 0s - loss: 0.3641 - acc: 0.8800\n",
      "Epoch 52/100\n",
      " - 0s - loss: 0.3601 - acc: 0.8800\n",
      "Epoch 53/100\n",
      " - 0s - loss: 0.3557 - acc: 0.8800\n",
      "Epoch 54/100\n",
      " - 0s - loss: 0.3514 - acc: 0.8800\n",
      "Epoch 55/100\n",
      " - 0s - loss: 0.3471 - acc: 0.8800\n",
      "Epoch 56/100\n",
      " - 0s - loss: 0.3433 - acc: 0.8800\n",
      "Epoch 57/100\n",
      " - 0s - loss: 0.3395 - acc: 0.8800\n",
      "Epoch 58/100\n",
      " - 0s - loss: 0.3357 - acc: 0.8800\n",
      "Epoch 59/100\n",
      " - 0s - loss: 0.3318 - acc: 0.8800\n",
      "Epoch 60/100\n",
      " - 0s - loss: 0.3281 - acc: 0.8800\n",
      "Epoch 61/100\n",
      " - 0s - loss: 0.3248 - acc: 0.8867\n",
      "Epoch 62/100\n",
      " - 0s - loss: 0.3212 - acc: 0.8867\n",
      "Epoch 63/100\n",
      " - 0s - loss: 0.3180 - acc: 0.8867\n",
      "Epoch 64/100\n",
      " - 0s - loss: 0.3149 - acc: 0.8867\n",
      "Epoch 65/100\n",
      " - 0s - loss: 0.3116 - acc: 0.8867\n",
      "Epoch 66/100\n",
      " - 0s - loss: 0.3085 - acc: 0.8933\n",
      "Epoch 67/100\n",
      " - 0s - loss: 0.3058 - acc: 0.8933\n",
      "Epoch 68/100\n",
      " - 0s - loss: 0.3026 - acc: 0.8933\n",
      "Epoch 69/100\n",
      " - 0s - loss: 0.2999 - acc: 0.8933\n",
      "Epoch 70/100\n",
      " - 0s - loss: 0.2971 - acc: 0.9000\n",
      "Epoch 71/100\n",
      " - 0s - loss: 0.2945 - acc: 0.9000\n",
      "Epoch 72/100\n",
      " - 0s - loss: 0.2919 - acc: 0.9000\n",
      "Epoch 73/100\n",
      " - 0s - loss: 0.2894 - acc: 0.9000\n",
      "Epoch 74/100\n",
      " - 0s - loss: 0.2868 - acc: 0.9000\n",
      "Epoch 75/100\n",
      " - 0s - loss: 0.2845 - acc: 0.9000\n",
      "Epoch 76/100\n",
      " - 0s - loss: 0.2822 - acc: 0.9000\n",
      "Epoch 77/100\n",
      " - 0s - loss: 0.2800 - acc: 0.9000\n",
      "Epoch 78/100\n",
      " - 0s - loss: 0.2779 - acc: 0.9000\n",
      "Epoch 79/100\n",
      " - 0s - loss: 0.2758 - acc: 0.9000\n",
      "Epoch 80/100\n",
      " - 0s - loss: 0.2738 - acc: 0.9000\n",
      "Epoch 81/100\n",
      " - 0s - loss: 0.2720 - acc: 0.9000\n",
      "Epoch 82/100\n",
      " - 0s - loss: 0.2699 - acc: 0.9000\n",
      "Epoch 83/100\n",
      " - 0s - loss: 0.2682 - acc: 0.9000\n",
      "Epoch 84/100\n",
      " - 0s - loss: 0.2664 - acc: 0.9000\n",
      "Epoch 85/100\n",
      " - 0s - loss: 0.2648 - acc: 0.8933\n",
      "Epoch 86/100\n",
      " - 0s - loss: 0.2631 - acc: 0.8933\n",
      "Epoch 87/100\n",
      " - 0s - loss: 0.2614 - acc: 0.8933\n",
      "Epoch 88/100\n",
      " - 0s - loss: 0.2600 - acc: 0.8933\n",
      "Epoch 89/100\n",
      " - 0s - loss: 0.2584 - acc: 0.8933\n",
      "Epoch 90/100\n",
      " - 0s - loss: 0.2569 - acc: 0.8933\n",
      "Epoch 91/100\n",
      " - 0s - loss: 0.2555 - acc: 0.8933\n",
      "Epoch 92/100\n",
      " - 0s - loss: 0.2542 - acc: 0.8933\n",
      "Epoch 93/100\n",
      " - 0s - loss: 0.2528 - acc: 0.8933\n",
      "Epoch 94/100\n",
      " - 0s - loss: 0.2516 - acc: 0.8933\n",
      "Epoch 95/100\n",
      " - 0s - loss: 0.2503 - acc: 0.8933\n",
      "Epoch 96/100\n",
      " - 0s - loss: 0.2491 - acc: 0.8933\n",
      "Epoch 97/100\n",
      " - 0s - loss: 0.2479 - acc: 0.8933\n",
      "Epoch 98/100\n",
      " - 0s - loss: 0.2468 - acc: 0.8933\n",
      "Epoch 99/100\n",
      " - 0s - loss: 0.2456 - acc: 0.9000\n",
      "Epoch 100/100\n",
      " - 0s - loss: 0.2447 - acc: 0.9000\n"
     ]
    },
    {
     "data": {
      "text/plain": [
       "<keras.callbacks.History at 0x7f4c88331d68>"
      ]
     },
     "execution_count": 13,
     "metadata": {},
     "output_type": "execute_result"
    }
   ],
   "source": [
    "#Fit the model to the training data\n",
    "\n",
    "model.fit(X_train_scaled, y_trained_categorical, epochs=100, shuffle=True, verbose=2\n",
    ")"
   ]
  },
  {
   "cell_type": "markdown",
   "metadata": {},
   "source": [
    "---"
   ]
  },
  {
   "cell_type": "markdown",
   "metadata": {},
   "source": [
    "## Deep Learning\n",
    "For this network, we simply add an additional hidden layer of 6 nodes"
   ]
  },
  {
   "cell_type": "code",
   "execution_count": 14,
   "metadata": {},
   "outputs": [],
   "source": [
    "deep_model = Sequential()\n",
    "deep_model.add(Dense(units=6, activation='relu', input_dim=2))\n",
    "deep_model.add(Dense(units=6, activation='relu'))\n",
    "deep_model.add(Dense(units=2, activation='softmax'))"
   ]
  },
  {
   "cell_type": "code",
   "execution_count": 15,
   "metadata": {},
   "outputs": [
    {
     "name": "stdout",
     "output_type": "stream",
     "text": [
      "_________________________________________________________________\n",
      "Layer (type)                 Output Shape              Param #   \n",
      "=================================================================\n",
      "dense_3 (Dense)              (None, 6)                 18        \n",
      "_________________________________________________________________\n",
      "dense_4 (Dense)              (None, 6)                 42        \n",
      "_________________________________________________________________\n",
      "dense_5 (Dense)              (None, 2)                 14        \n",
      "=================================================================\n",
      "Total params: 74\n",
      "Trainable params: 74\n",
      "Non-trainable params: 0\n",
      "_________________________________________________________________\n"
     ]
    }
   ],
   "source": [
    "deep_model.summary()"
   ]
  },
  {
   "cell_type": "code",
   "execution_count": 20,
   "metadata": {},
   "outputs": [
    {
     "name": "stdout",
     "output_type": "stream",
     "text": [
      "Epoch 1/100\n",
      " - 0s - loss: 0.6658 - acc: 0.4600\n",
      "Epoch 2/100\n",
      " - 0s - loss: 0.6586 - acc: 0.5067\n",
      "Epoch 3/100\n",
      " - 0s - loss: 0.6509 - acc: 0.5667\n",
      "Epoch 4/100\n",
      " - 0s - loss: 0.6433 - acc: 0.6400\n",
      "Epoch 5/100\n",
      " - 0s - loss: 0.6354 - acc: 0.6800\n",
      "Epoch 6/100\n",
      " - 0s - loss: 0.6274 - acc: 0.6867\n",
      "Epoch 7/100\n",
      " - 0s - loss: 0.6187 - acc: 0.7333\n",
      "Epoch 8/100\n",
      " - 0s - loss: 0.6096 - acc: 0.7533\n",
      "Epoch 9/100\n",
      " - 0s - loss: 0.6006 - acc: 0.7867\n",
      "Epoch 10/100\n",
      " - 0s - loss: 0.5910 - acc: 0.8200\n",
      "Epoch 11/100\n",
      " - 0s - loss: 0.5810 - acc: 0.8333\n",
      "Epoch 12/100\n",
      " - 0s - loss: 0.5712 - acc: 0.8400\n",
      "Epoch 13/100\n",
      " - 0s - loss: 0.5610 - acc: 0.8600\n",
      "Epoch 14/100\n",
      " - 0s - loss: 0.5509 - acc: 0.8667\n",
      "Epoch 15/100\n",
      " - 0s - loss: 0.5411 - acc: 0.8667\n",
      "Epoch 16/100\n",
      " - 0s - loss: 0.5308 - acc: 0.8667\n",
      "Epoch 17/100\n",
      " - 0s - loss: 0.5209 - acc: 0.8667\n",
      "Epoch 18/100\n",
      " - 0s - loss: 0.5111 - acc: 0.8667\n",
      "Epoch 19/100\n",
      " - 0s - loss: 0.5009 - acc: 0.8667\n",
      "Epoch 20/100\n",
      " - 0s - loss: 0.4920 - acc: 0.8733\n",
      "Epoch 21/100\n",
      " - 0s - loss: 0.4825 - acc: 0.8733\n",
      "Epoch 22/100\n",
      " - 0s - loss: 0.4733 - acc: 0.8733\n",
      "Epoch 23/100\n",
      " - 0s - loss: 0.4641 - acc: 0.8733\n",
      "Epoch 24/100\n",
      " - 0s - loss: 0.4550 - acc: 0.8733\n",
      "Epoch 25/100\n",
      " - 0s - loss: 0.4453 - acc: 0.8733\n",
      "Epoch 26/100\n",
      " - 0s - loss: 0.4358 - acc: 0.8733\n",
      "Epoch 27/100\n",
      " - 0s - loss: 0.4267 - acc: 0.8733\n",
      "Epoch 28/100\n",
      " - 0s - loss: 0.4176 - acc: 0.8733\n",
      "Epoch 29/100\n",
      " - 0s - loss: 0.4081 - acc: 0.8733\n",
      "Epoch 30/100\n",
      " - 0s - loss: 0.3998 - acc: 0.8733\n",
      "Epoch 31/100\n",
      " - 0s - loss: 0.3910 - acc: 0.8733\n",
      "Epoch 32/100\n",
      " - 0s - loss: 0.3833 - acc: 0.8733\n",
      "Epoch 33/100\n",
      " - 0s - loss: 0.3757 - acc: 0.8733\n",
      "Epoch 34/100\n",
      " - 0s - loss: 0.3679 - acc: 0.8733\n",
      "Epoch 35/100\n",
      " - 0s - loss: 0.3611 - acc: 0.8733\n",
      "Epoch 36/100\n",
      " - 0s - loss: 0.3550 - acc: 0.8800\n",
      "Epoch 37/100\n",
      " - 0s - loss: 0.3485 - acc: 0.8867\n",
      "Epoch 38/100\n",
      " - 0s - loss: 0.3427 - acc: 0.8867\n",
      "Epoch 39/100\n",
      " - 0s - loss: 0.3371 - acc: 0.8933\n",
      "Epoch 40/100\n",
      " - 0s - loss: 0.3316 - acc: 0.8933\n",
      "Epoch 41/100\n",
      " - 0s - loss: 0.3263 - acc: 0.9000\n",
      "Epoch 42/100\n",
      " - 0s - loss: 0.3215 - acc: 0.9000\n",
      "Epoch 43/100\n",
      " - 0s - loss: 0.3164 - acc: 0.9000\n",
      "Epoch 44/100\n",
      " - 0s - loss: 0.3119 - acc: 0.9000\n",
      "Epoch 45/100\n",
      " - 0s - loss: 0.3077 - acc: 0.9000\n",
      "Epoch 46/100\n",
      " - 0s - loss: 0.3037 - acc: 0.9000\n",
      "Epoch 47/100\n",
      " - 0s - loss: 0.2995 - acc: 0.9000\n",
      "Epoch 48/100\n",
      " - 0s - loss: 0.2957 - acc: 0.9000\n",
      "Epoch 49/100\n",
      " - 0s - loss: 0.2924 - acc: 0.9000\n",
      "Epoch 50/100\n",
      " - 0s - loss: 0.2886 - acc: 0.9000\n",
      "Epoch 51/100\n",
      " - 0s - loss: 0.2855 - acc: 0.9067\n",
      "Epoch 52/100\n",
      " - 0s - loss: 0.2825 - acc: 0.9067\n",
      "Epoch 53/100\n",
      " - 0s - loss: 0.2798 - acc: 0.9067\n",
      "Epoch 54/100\n",
      " - 0s - loss: 0.2771 - acc: 0.9067\n",
      "Epoch 55/100\n",
      " - 0s - loss: 0.2746 - acc: 0.9067\n",
      "Epoch 56/100\n",
      " - 0s - loss: 0.2722 - acc: 0.9067\n",
      "Epoch 57/100\n",
      " - 0s - loss: 0.2698 - acc: 0.9067\n",
      "Epoch 58/100\n",
      " - 0s - loss: 0.2675 - acc: 0.9067\n",
      "Epoch 59/100\n",
      " - 0s - loss: 0.2655 - acc: 0.9067\n",
      "Epoch 60/100\n",
      " - 0s - loss: 0.2637 - acc: 0.9067\n",
      "Epoch 61/100\n",
      " - 0s - loss: 0.2618 - acc: 0.9067\n",
      "Epoch 62/100\n",
      " - 0s - loss: 0.2598 - acc: 0.9067\n",
      "Epoch 63/100\n",
      " - 0s - loss: 0.2580 - acc: 0.9067\n",
      "Epoch 64/100\n",
      " - 0s - loss: 0.2565 - acc: 0.9067\n",
      "Epoch 65/100\n",
      " - 0s - loss: 0.2544 - acc: 0.9067\n",
      "Epoch 66/100\n",
      " - 0s - loss: 0.2528 - acc: 0.9067\n",
      "Epoch 67/100\n",
      " - 0s - loss: 0.2509 - acc: 0.9067\n",
      "Epoch 68/100\n",
      " - 0s - loss: 0.2492 - acc: 0.9067\n",
      "Epoch 69/100\n",
      " - 0s - loss: 0.2476 - acc: 0.9067\n",
      "Epoch 70/100\n",
      " - 0s - loss: 0.2463 - acc: 0.9067\n",
      "Epoch 71/100\n",
      " - 0s - loss: 0.2446 - acc: 0.9067\n",
      "Epoch 72/100\n",
      " - 0s - loss: 0.2430 - acc: 0.9067\n",
      "Epoch 73/100\n",
      " - 0s - loss: 0.2416 - acc: 0.9067\n",
      "Epoch 74/100\n",
      " - 0s - loss: 0.2402 - acc: 0.9067\n",
      "Epoch 75/100\n",
      " - 0s - loss: 0.2391 - acc: 0.9067\n",
      "Epoch 76/100\n",
      " - 0s - loss: 0.2375 - acc: 0.9067\n",
      "Epoch 77/100\n",
      " - 0s - loss: 0.2363 - acc: 0.9067\n",
      "Epoch 78/100\n",
      " - 0s - loss: 0.2349 - acc: 0.9067\n",
      "Epoch 79/100\n",
      " - 0s - loss: 0.2338 - acc: 0.9067\n",
      "Epoch 80/100\n",
      " - 0s - loss: 0.2324 - acc: 0.9067\n",
      "Epoch 81/100\n",
      " - 0s - loss: 0.2312 - acc: 0.9067\n",
      "Epoch 82/100\n",
      " - 0s - loss: 0.2301 - acc: 0.9067\n",
      "Epoch 83/100\n",
      " - 0s - loss: 0.2288 - acc: 0.9067\n",
      "Epoch 84/100\n",
      " - 0s - loss: 0.2275 - acc: 0.9067\n",
      "Epoch 85/100\n",
      " - 0s - loss: 0.2263 - acc: 0.9067\n",
      "Epoch 86/100\n",
      " - 0s - loss: 0.2251 - acc: 0.9067\n",
      "Epoch 87/100\n",
      " - 0s - loss: 0.2241 - acc: 0.9067\n",
      "Epoch 88/100\n",
      " - 0s - loss: 0.2228 - acc: 0.9067\n",
      "Epoch 89/100\n",
      " - 0s - loss: 0.2217 - acc: 0.9067\n",
      "Epoch 90/100\n",
      " - 0s - loss: 0.2205 - acc: 0.9067\n",
      "Epoch 91/100\n",
      " - 0s - loss: 0.2196 - acc: 0.9067\n",
      "Epoch 92/100\n",
      " - 0s - loss: 0.2184 - acc: 0.9067\n",
      "Epoch 93/100\n",
      " - 0s - loss: 0.2173 - acc: 0.9067\n",
      "Epoch 94/100\n",
      " - 0s - loss: 0.2162 - acc: 0.9067\n",
      "Epoch 95/100\n",
      " - 0s - loss: 0.2151 - acc: 0.9067\n",
      "Epoch 96/100\n",
      " - 0s - loss: 0.2141 - acc: 0.9067\n",
      "Epoch 97/100\n",
      " - 0s - loss: 0.2130 - acc: 0.9067\n",
      "Epoch 98/100\n",
      " - 0s - loss: 0.2119 - acc: 0.9067\n",
      "Epoch 99/100\n",
      " - 0s - loss: 0.2107 - acc: 0.9067\n",
      "Epoch 100/100\n",
      " - 0s - loss: 0.2096 - acc: 0.9067\n"
     ]
    },
    {
     "data": {
      "text/plain": [
       "<keras.callbacks.History at 0x7f4c807a64e0>"
      ]
     },
     "execution_count": 20,
     "metadata": {},
     "output_type": "execute_result"
    }
   ],
   "source": [
    "deep_model.compile(optimizer='adam',\n",
    "                   loss='categorical_crossentropy',\n",
    "                   metrics=['accuracy'])\n",
    "\n",
    "deep_model.fit(\n",
    "    X_train_scaled,\n",
    "    y_train_categorical,\n",
    "    epochs=100,\n",
    "    shuffle=True,\n",
    "    verbose=2\n",
    ")"
   ]
  },
  {
   "cell_type": "markdown",
   "metadata": {},
   "source": [
    "## Compare the Models below"
   ]
  },
  {
   "cell_type": "code",
   "execution_count": 21,
   "metadata": {},
   "outputs": [
    {
     "name": "stdout",
     "output_type": "stream",
     "text": [
      "Normal Neural Network - Loss: 0.3279105746746063, Accuracy: 0.8399999928474426\n"
     ]
    }
   ],
   "source": [
    "model_loss, model_accuracy = model.evaluate(\n",
    "    X_test_scaled, y_test_categorical, verbose=2)\n",
    "\n",
    "print(f'Normal Neural Network - Loss: {model_loss}, Accuracy: {model_accuracy}')"
   ]
  },
  {
   "cell_type": "code",
   "execution_count": 22,
   "metadata": {},
   "outputs": [
    {
     "name": "stdout",
     "output_type": "stream",
     "text": [
      "Deep Neural Network - Loss: 0.29602471113204953, Accuracy: 0.8600000023841858\n"
     ]
    }
   ],
   "source": [
    "model_loss, model_accuracy= deep_model.evaluate(\n",
    "    X_test_scaled, y_test_categorical, verbose=2)\n",
    "\n",
    "print(f\"Deep Neural Network - Loss: {model_loss}, Accuracy: {model_accuracy}\")"
   ]
  },
  {
   "cell_type": "code",
   "execution_count": null,
   "metadata": {},
   "outputs": [],
   "source": []
  }
 ],
 "metadata": {
  "kernelspec": {
   "display_name": "Python 3",
   "language": "python",
   "name": "python3"
  },
  "language_info": {
   "codemirror_mode": {
    "name": "ipython",
    "version": 3
   },
   "file_extension": ".py",
   "mimetype": "text/x-python",
   "name": "python",
   "nbconvert_exporter": "python",
   "pygments_lexer": "ipython3",
   "version": "3.6.5"
  }
 },
 "nbformat": 4,
 "nbformat_minor": 2
}
