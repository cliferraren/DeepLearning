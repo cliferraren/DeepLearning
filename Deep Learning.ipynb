{
 "cells": [
  {
   "cell_type": "markdown",
   "metadata": {},
   "source": [
    "## Deep Learning"
   ]
  },
  {
   "cell_type": "markdown",
   "metadata": {},
   "source": [
    "---"
   ]
  },
  {
   "cell_type": "code",
   "execution_count": 1,
   "metadata": {},
   "outputs": [],
   "source": [
    "#Import Dependencies\n",
    "import warnings\n",
    "warnings.simplefilter('ignore')\n",
    "\n",
    "import matplotlib.pyplot as plt\n",
    "import pandas as pd\n",
    "import numpy as np\n",
    "import sklearn\n",
    "import sklearn.datasets\n",
    "from numpy.random import seed\n",
    "seed(1)"
   ]
  },
  {
   "cell_type": "code",
   "execution_count": 2,
   "metadata": {},
   "outputs": [],
   "source": [
    "#Create Synthetic Data\n",
    "X, y = sklearn.datasets.make_circles(noise=0.05, factor=.2, random_state=1)"
   ]
  },
  {
   "cell_type": "code",
   "execution_count": 3,
   "metadata": {},
   "outputs": [
    {
     "data": {
      "text/plain": [
       "<matplotlib.collections.PathCollection at 0x7ff50c88dcc0>"
      ]
     },
     "execution_count": 3,
     "metadata": {},
     "output_type": "execute_result"
    },
    {
     "data": {
      "image/png": "[encoded data removed]",
      "text/plain": [
       "<Figure size 432x288 with 1 Axes>"
      ]
     },
     "metadata": {
      "needs_background": "light"
     },
     "output_type": "display_data"
    }
   ],
   "source": [
    "#Visualize the data\n",
    "\n",
    "plt.scatter(X[:, 0], X[:, 1], c=y)"
   ]
  },
  {
   "cell_type": "code",
   "execution_count": 4,
   "metadata": {},
   "outputs": [],
   "source": [
    "#Use train_test_split to create training and testing data\n",
    "from sklearn.model_selection import train_test_split\n",
    "\n",
    "X_train, X_test, y_train, y_test = train_test_split(X, y, random_state=1)"
   ]
  },
  {
   "cell_type": "code",
   "execution_count": 5,
   "metadata": {},
   "outputs": [],
   "source": [
    "from sklearn.preprocessing import StandardScaler\n",
    "\n",
    "# Create a StandardScater model and fit it to the training data\n",
    "X_scaler = StandardScaler().fit(X_train)"
   ]
  },
  {
   "cell_type": "code",
   "execution_count": 6,
   "metadata": {},
   "outputs": [],
   "source": [
    "# Transform the training and testing data using the X_scaler\n",
    "\n",
    "X_train_scaled = X_scaler.transform(X_train)\n",
    "X_test_scaled = X_scaler.transform(X_test)"
   ]
  },
  {
   "cell_type": "code",
   "execution_count": 7,
   "metadata": {},
   "outputs": [
    {
     "name": "stderr",
     "output_type": "stream",
     "text": [
      "Using TensorFlow backend.\n"
     ]
    }
   ],
   "source": [
    "from keras.utils import to_categorical\n",
    "\n",
    "# One-hot encoding\n",
    "y_train_categorical = to_categorical(y_train)\n",
    "y_test_categorical = to_categorical(y_test)"
   ]
  },
  {
   "cell_type": "code",
   "execution_count": 8,
   "metadata": {},
   "outputs": [],
   "source": [
    "# first, create a normal neural network with 2 inputs, 6 hidden nodes, and 2 outputs\n",
    "from keras.models import Sequential\n",
    "from keras.layers import Dense\n",
    "\n",
    "model = Sequential()\n",
    "model.add(Dense(units=6, activation='relu', input_dim=2))\n",
    "model.add(Dense(units=2, activation='softmax'))"
   ]
  },
  {
   "cell_type": "code",
   "execution_count": 9,
   "metadata": {},
   "outputs": [
    {
     "name": "stdout",
     "output_type": "stream",
     "text": [
      "_________________________________________________________________\n",
      "Layer (type)                 Output Shape              Param #   \n",
      "=================================================================\n",
      "dense_1 (Dense)              (None, 6)                 18        \n",
      "_________________________________________________________________\n",
      "dense_2 (Dense)              (None, 2)                 14        \n",
      "=================================================================\n",
      "Total params: 32\n",
      "Trainable params: 32\n",
      "Non-trainable params: 0\n",
      "_________________________________________________________________\n"
     ]
    }
   ],
   "source": [
    "model.summary()"
   ]
  },
  {
   "cell_type": "code",
   "execution_count": 10,
   "metadata": {},
   "outputs": [],
   "source": [
    "# Compile the model\n",
    "model.compile(optimizer='adam',\n",
    "              loss='categorical_crossentropy',\n",
    "              metrics=['accuracy'])"
   ]
  },
  {
   "cell_type": "code",
   "execution_count": 11,
   "metadata": {},
   "outputs": [
    {
     "name": "stdout",
     "output_type": "stream",
     "text": [
      "Epoch 1/100\n",
      " - 0s - loss: 0.7864 - acc: 0.5067\n",
      "Epoch 2/100\n",
      " - 0s - loss: 0.7809 - acc: 0.4933\n",
      "Epoch 3/100\n",
      " - 0s - loss: 0.7747 - acc: 0.4933\n",
      "Epoch 4/100\n",
      " - 0s - loss: 0.7697 - acc: 0.4933\n",
      "Epoch 5/100\n",
      " - 0s - loss: 0.7650 - acc: 0.5067\n",
      "Epoch 6/100\n",
      " - 0s - loss: 0.7601 - acc: 0.5067\n",
      "Epoch 7/100\n",
      " - 0s - loss: 0.7554 - acc: 0.4800\n",
      "Epoch 8/100\n",
      " - 0s - loss: 0.7511 - acc: 0.4800\n",
      "Epoch 9/100\n",
      " - 0s - loss: 0.7465 - acc: 0.4800\n",
      "Epoch 10/100\n",
      " - 0s - loss: 0.7423 - acc: 0.4667\n",
      "Epoch 11/100\n",
      " - 0s - loss: 0.7383 - acc: 0.4533\n",
      "Epoch 12/100\n",
      " - 0s - loss: 0.7341 - acc: 0.4533\n",
      "Epoch 13/100\n",
      " - 0s - loss: 0.7308 - acc: 0.4533\n",
      "Epoch 14/100\n",
      " - 0s - loss: 0.7267 - acc: 0.4533\n",
      "Epoch 15/100\n",
      " - 0s - loss: 0.7234 - acc: 0.4533\n",
      "Epoch 16/100\n",
      " - 0s - loss: 0.7199 - acc: 0.4533\n",
      "Epoch 17/100\n",
      " - 0s - loss: 0.7170 - acc: 0.4533\n",
      "Epoch 18/100\n",
      " - 0s - loss: 0.7135 - acc: 0.4533\n",
      "Epoch 19/100\n",
      " - 0s - loss: 0.7105 - acc: 0.4400\n",
      "Epoch 20/100\n",
      " - 0s - loss: 0.7074 - acc: 0.4400\n",
      "Epoch 21/100\n",
      " - 0s - loss: 0.7045 - acc: 0.4267\n",
      "Epoch 22/100\n",
      " - 0s - loss: 0.7017 - acc: 0.4400\n",
      "Epoch 23/100\n",
      " - 0s - loss: 0.6988 - acc: 0.4400\n",
      "Epoch 24/100\n",
      " - 0s - loss: 0.6961 - acc: 0.4533\n",
      "Epoch 25/100\n",
      " - 0s - loss: 0.6935 - acc: 0.4533\n",
      "Epoch 26/100\n",
      " - 0s - loss: 0.6906 - acc: 0.4533\n",
      "Epoch 27/100\n",
      " - 0s - loss: 0.6878 - acc: 0.4533\n",
      "Epoch 28/100\n",
      " - 0s - loss: 0.6854 - acc: 0.4533\n",
      "Epoch 29/100\n",
      " - 0s - loss: 0.6825 - acc: 0.4267\n",
      "Epoch 30/100\n",
      " - 0s - loss: 0.6798 - acc: 0.4267\n",
      "Epoch 31/100\n",
      " - 0s - loss: 0.6771 - acc: 0.4267\n",
      "Epoch 32/100\n",
      " - 0s - loss: 0.6747 - acc: 0.4267\n",
      "Epoch 33/100\n",
      " - 0s - loss: 0.6726 - acc: 0.4267\n",
      "Epoch 34/100\n",
      " - 0s - loss: 0.6700 - acc: 0.4267\n",
      "Epoch 35/100\n",
      " - 0s - loss: 0.6675 - acc: 0.4267\n",
      "Epoch 36/100\n",
      " - 0s - loss: 0.6656 - acc: 0.4267\n",
      "Epoch 37/100\n",
      " - 0s - loss: 0.6632 - acc: 0.4267\n",
      "Epoch 38/100\n",
      " - 0s - loss: 0.6611 - acc: 0.4267\n",
      "Epoch 39/100\n",
      " - 0s - loss: 0.6592 - acc: 0.4267\n",
      "Epoch 40/100\n",
      " - 0s - loss: 0.6570 - acc: 0.4267\n",
      "Epoch 41/100\n",
      " - 0s - loss: 0.6548 - acc: 0.4400\n",
      "Epoch 42/100\n",
      " - 0s - loss: 0.6527 - acc: 0.4400\n",
      "Epoch 43/100\n",
      " - 0s - loss: 0.6509 - acc: 0.4400\n",
      "Epoch 44/100\n",
      " - 0s - loss: 0.6488 - acc: 0.4400\n",
      "Epoch 45/100\n",
      " - 0s - loss: 0.6468 - acc: 0.4533\n",
      "Epoch 46/100\n",
      " - 0s - loss: 0.6450 - acc: 0.4800\n",
      "Epoch 47/100\n",
      " - 0s - loss: 0.6432 - acc: 0.5067\n",
      "Epoch 48/100\n",
      " - 0s - loss: 0.6413 - acc: 0.5467\n",
      "Epoch 49/100\n",
      " - 0s - loss: 0.6396 - acc: 0.5467\n",
      "Epoch 50/100\n",
      " - 0s - loss: 0.6377 - acc: 0.5467\n",
      "Epoch 51/100\n",
      " - 0s - loss: 0.6360 - acc: 0.5467\n",
      "Epoch 52/100\n",
      " - 0s - loss: 0.6343 - acc: 0.5600\n",
      "Epoch 53/100\n",
      " - 0s - loss: 0.6325 - acc: 0.5600\n",
      "Epoch 54/100\n",
      " - 0s - loss: 0.6308 - acc: 0.5600\n",
      "Epoch 55/100\n",
      " - 0s - loss: 0.6293 - acc: 0.5600\n",
      "Epoch 56/100\n",
      " - 0s - loss: 0.6275 - acc: 0.5733\n",
      "Epoch 57/100\n",
      " - 0s - loss: 0.6259 - acc: 0.5733\n",
      "Epoch 58/100\n",
      " - 0s - loss: 0.6242 - acc: 0.5867\n",
      "Epoch 59/100\n",
      " - 0s - loss: 0.6227 - acc: 0.6000\n",
      "Epoch 60/100\n",
      " - 0s - loss: 0.6209 - acc: 0.6000\n",
      "Epoch 61/100\n",
      " - 0s - loss: 0.6194 - acc: 0.6000\n",
      "Epoch 62/100\n",
      " - 0s - loss: 0.6178 - acc: 0.6000\n",
      "Epoch 63/100\n",
      " - 0s - loss: 0.6161 - acc: 0.6000\n",
      "Epoch 64/100\n",
      " - 0s - loss: 0.6146 - acc: 0.6000\n",
      "Epoch 65/100\n",
      " - 0s - loss: 0.6130 - acc: 0.6000\n",
      "Epoch 66/100\n",
      " - 0s - loss: 0.6116 - acc: 0.6000\n",
      "Epoch 67/100\n",
      " - 0s - loss: 0.6101 - acc: 0.6000\n",
      "Epoch 68/100\n",
      " - 0s - loss: 0.6088 - acc: 0.6000\n",
      "Epoch 69/100\n",
      " - 0s - loss: 0.6074 - acc: 0.6000\n",
      "Epoch 70/100\n",
      " - 0s - loss: 0.6060 - acc: 0.6000\n",
      "Epoch 71/100\n",
      " - 0s - loss: 0.6047 - acc: 0.6000\n",
      "Epoch 72/100\n",
      " - 0s - loss: 0.6032 - acc: 0.6133\n",
      "Epoch 73/100\n",
      " - 0s - loss: 0.6019 - acc: 0.6133\n",
      "Epoch 74/100\n",
      " - 0s - loss: 0.6006 - acc: 0.6267\n",
      "Epoch 75/100\n",
      " - 0s - loss: 0.5992 - acc: 0.6267\n",
      "Epoch 76/100\n",
      " - 0s - loss: 0.5980 - acc: 0.6267\n",
      "Epoch 77/100\n",
      " - 0s - loss: 0.5966 - acc: 0.6267\n",
      "Epoch 78/100\n",
      " - 0s - loss: 0.5954 - acc: 0.6267\n",
      "Epoch 79/100\n",
      " - 0s - loss: 0.5940 - acc: 0.6267\n",
      "Epoch 80/100\n",
      " - 0s - loss: 0.5929 - acc: 0.6267\n",
      "Epoch 81/100\n",
      " - 0s - loss: 0.5916 - acc: 0.6267\n",
      "Epoch 82/100\n",
      " - 0s - loss: 0.5903 - acc: 0.6267\n",
      "Epoch 83/100\n",
      " - 0s - loss: 0.5891 - acc: 0.6267\n",
      "Epoch 84/100\n",
      " - 0s - loss: 0.5879 - acc: 0.6267\n",
      "Epoch 85/100\n",
      " - 0s - loss: 0.5867 - acc: 0.6267\n",
      "Epoch 86/100\n",
      " - 0s - loss: 0.5855 - acc: 0.6267\n",
      "Epoch 87/100\n",
      " - 0s - loss: 0.5843 - acc: 0.6267\n",
      "Epoch 88/100\n",
      " - 0s - loss: 0.5831 - acc: 0.6400\n",
      "Epoch 89/100\n",
      " - 0s - loss: 0.5819 - acc: 0.6400\n",
      "Epoch 90/100\n",
      " - 0s - loss: 0.5807 - acc: 0.6400\n",
      "Epoch 91/100\n",
      " - 0s - loss: 0.5796 - acc: 0.6400\n",
      "Epoch 92/100\n",
      " - 0s - loss: 0.5784 - acc: 0.6400\n",
      "Epoch 93/100\n",
      " - 0s - loss: 0.5772 - acc: 0.6400\n",
      "Epoch 94/100\n",
      " - 0s - loss: 0.5760 - acc: 0.6400\n",
      "Epoch 95/100\n",
      " - 0s - loss: 0.5748 - acc: 0.6400\n",
      "Epoch 96/100\n",
      " - 0s - loss: 0.5736 - acc: 0.6400\n",
      "Epoch 97/100\n",
      " - 0s - loss: 0.5724 - acc: 0.6400\n",
      "Epoch 98/100\n",
      " - 0s - loss: 0.5713 - acc: 0.6533\n",
      "Epoch 99/100\n",
      " - 0s - loss: 0.5701 - acc: 0.6533\n",
      "Epoch 100/100\n",
      " - 0s - loss: 0.5690 - acc: 0.6667\n"
     ]
    },
    {
     "data": {
      "text/plain": [
       "<keras.callbacks.History at 0x7ff4fff7e3c8>"
      ]
     },
     "execution_count": 11,
     "metadata": {},
     "output_type": "execute_result"
    }
   ],
   "source": [
    "# Fit the model to the training data\n",
    "model.fit(\n",
    "    X_train_scaled,\n",
    "    y_train_categorical,\n",
    "    epochs=100,\n",
    "    shuffle=True,\n",
    "    verbose=2\n",
    ")"
   ]
  },
  {
   "cell_type": "markdown",
   "metadata": {},
   "source": [
    "## Deep Learning\n",
    "For this network, we simply add an additional hidden layer of 6 nodes"
   ]
  },
  {
   "cell_type": "code",
   "execution_count": 12,
   "metadata": {},
   "outputs": [],
   "source": [
    "deep_model = Sequential()\n",
    "deep_model.add(Dense(units=6, activation='relu', input_dim=2))\n",
    "deep_model.add(Dense(units=6, activation='relu'))\n",
    "deep_model.add(Dense(units=2, activation='softmax'))"
   ]
  },
  {
   "cell_type": "code",
   "execution_count": 13,
   "metadata": {},
   "outputs": [
    {
     "name": "stdout",
     "output_type": "stream",
     "text": [
      "_________________________________________________________________\n",
      "Layer (type)                 Output Shape              Param #   \n",
      "=================================================================\n",
      "dense_3 (Dense)              (None, 6)                 18        \n",
      "_________________________________________________________________\n",
      "dense_4 (Dense)              (None, 6)                 42        \n",
      "_________________________________________________________________\n",
      "dense_5 (Dense)              (None, 2)                 14        \n",
      "=================================================================\n",
      "Total params: 74\n",
      "Trainable params: 74\n",
      "Non-trainable params: 0\n",
      "_________________________________________________________________\n"
     ]
    }
   ],
   "source": [
    "deep_model.summary()"
   ]
  },
  {
   "cell_type": "code",
   "execution_count": 14,
   "metadata": {},
   "outputs": [
    {
     "name": "stdout",
     "output_type": "stream",
     "text": [
      "Epoch 1/100\n",
      " - 0s - loss: 0.5841 - acc: 0.4933\n",
      "Epoch 2/100\n",
      " - 0s - loss: 0.5805 - acc: 0.5067\n",
      "Epoch 3/100\n",
      " - 0s - loss: 0.5772 - acc: 0.5067\n",
      "Epoch 4/100\n",
      " - 0s - loss: 0.5741 - acc: 0.5867\n",
      "Epoch 5/100\n",
      " - 0s - loss: 0.5710 - acc: 0.5867\n",
      "Epoch 6/100\n",
      " - 0s - loss: 0.5680 - acc: 0.6133\n",
      "Epoch 7/100\n",
      " - 0s - loss: 0.5651 - acc: 0.6533\n",
      "Epoch 8/100\n",
      " - 0s - loss: 0.5620 - acc: 0.6667\n",
      "Epoch 9/100\n",
      " - 0s - loss: 0.5590 - acc: 0.6667\n",
      "Epoch 10/100\n",
      " - 0s - loss: 0.5561 - acc: 0.6800\n",
      "Epoch 11/100\n",
      " - 0s - loss: 0.5533 - acc: 0.6933\n",
      "Epoch 12/100\n",
      " - 0s - loss: 0.5504 - acc: 0.6933\n",
      "Epoch 13/100\n",
      " - 0s - loss: 0.5474 - acc: 0.7067\n",
      "Epoch 14/100\n",
      " - 0s - loss: 0.5444 - acc: 0.7467\n",
      "Epoch 15/100\n",
      " - 0s - loss: 0.5415 - acc: 0.7600\n",
      "Epoch 16/100\n",
      " - 0s - loss: 0.5385 - acc: 0.7733\n",
      "Epoch 17/100\n",
      " - 0s - loss: 0.5356 - acc: 0.8000\n",
      "Epoch 18/100\n",
      " - 0s - loss: 0.5327 - acc: 0.8000\n",
      "Epoch 19/100\n",
      " - 0s - loss: 0.5297 - acc: 0.8133\n",
      "Epoch 20/100\n",
      " - 0s - loss: 0.5267 - acc: 0.8400\n",
      "Epoch 21/100\n",
      " - 0s - loss: 0.5237 - acc: 0.8533\n",
      "Epoch 22/100\n",
      " - 0s - loss: 0.5207 - acc: 0.8533\n",
      "Epoch 23/100\n",
      " - 0s - loss: 0.5176 - acc: 0.8533\n",
      "Epoch 24/100\n",
      " - 0s - loss: 0.5146 - acc: 0.8667\n",
      "Epoch 25/100\n",
      " - 0s - loss: 0.5114 - acc: 0.9067\n",
      "Epoch 26/100\n",
      " - 0s - loss: 0.5084 - acc: 0.9067\n",
      "Epoch 27/100\n",
      " - 0s - loss: 0.5052 - acc: 0.9067\n",
      "Epoch 28/100\n",
      " - 0s - loss: 0.5021 - acc: 0.9067\n",
      "Epoch 29/100\n",
      " - 0s - loss: 0.4989 - acc: 0.9200\n",
      "Epoch 30/100\n",
      " - 0s - loss: 0.4957 - acc: 0.9200\n",
      "Epoch 31/100\n",
      " - 0s - loss: 0.4925 - acc: 0.9200\n",
      "Epoch 32/100\n",
      " - 0s - loss: 0.4894 - acc: 0.9333\n",
      "Epoch 33/100\n",
      " - 0s - loss: 0.4863 - acc: 0.9333\n",
      "Epoch 34/100\n",
      " - 0s - loss: 0.4831 - acc: 0.9333\n",
      "Epoch 35/100\n",
      " - 0s - loss: 0.4798 - acc: 0.9333\n",
      "Epoch 36/100\n",
      " - 0s - loss: 0.4766 - acc: 0.9333\n",
      "Epoch 37/100\n",
      " - 0s - loss: 0.4733 - acc: 0.9333\n",
      "Epoch 38/100\n",
      " - 0s - loss: 0.4701 - acc: 0.9467\n",
      "Epoch 39/100\n",
      " - 0s - loss: 0.4667 - acc: 0.9467\n",
      "Epoch 40/100\n",
      " - 0s - loss: 0.4634 - acc: 0.9467\n",
      "Epoch 41/100\n",
      " - 0s - loss: 0.4600 - acc: 0.9467\n",
      "Epoch 42/100\n",
      " - 0s - loss: 0.4567 - acc: 0.9467\n",
      "Epoch 43/100\n",
      " - 0s - loss: 0.4533 - acc: 0.9467\n",
      "Epoch 44/100\n",
      " - 0s - loss: 0.4500 - acc: 0.9600\n",
      "Epoch 45/100\n",
      " - 0s - loss: 0.4466 - acc: 0.9600\n",
      "Epoch 46/100\n",
      " - 0s - loss: 0.4432 - acc: 0.9600\n",
      "Epoch 47/100\n",
      " - 0s - loss: 0.4398 - acc: 0.9600\n",
      "Epoch 48/100\n",
      " - 0s - loss: 0.4363 - acc: 0.9600\n",
      "Epoch 49/100\n",
      " - 0s - loss: 0.4328 - acc: 0.9600\n",
      "Epoch 50/100\n",
      " - 0s - loss: 0.4292 - acc: 0.9600\n",
      "Epoch 51/100\n",
      " - 0s - loss: 0.4256 - acc: 0.9733\n",
      "Epoch 52/100\n",
      " - 0s - loss: 0.4223 - acc: 0.9733\n",
      "Epoch 53/100\n",
      " - 0s - loss: 0.4185 - acc: 0.9733\n",
      "Epoch 54/100\n",
      " - 0s - loss: 0.4150 - acc: 0.9867\n",
      "Epoch 55/100\n",
      " - 0s - loss: 0.4113 - acc: 0.9867\n",
      "Epoch 56/100\n",
      " - 0s - loss: 0.4075 - acc: 0.9867\n",
      "Epoch 57/100\n",
      " - 0s - loss: 0.4039 - acc: 0.9867\n",
      "Epoch 58/100\n",
      " - 0s - loss: 0.4002 - acc: 0.9867\n",
      "Epoch 59/100\n",
      " - 0s - loss: 0.3965 - acc: 0.9867\n",
      "Epoch 60/100\n",
      " - 0s - loss: 0.3927 - acc: 0.9867\n",
      "Epoch 61/100\n",
      " - 0s - loss: 0.3890 - acc: 0.9867\n",
      "Epoch 62/100\n",
      " - 0s - loss: 0.3855 - acc: 0.9867\n",
      "Epoch 63/100\n",
      " - 0s - loss: 0.3818 - acc: 0.9867\n",
      "Epoch 64/100\n",
      " - 0s - loss: 0.3780 - acc: 1.0000\n",
      "Epoch 65/100\n",
      " - 0s - loss: 0.3742 - acc: 1.0000\n",
      "Epoch 66/100\n",
      " - 0s - loss: 0.3704 - acc: 1.0000\n",
      "Epoch 67/100\n",
      " - 0s - loss: 0.3666 - acc: 1.0000\n",
      "Epoch 68/100\n",
      " - 0s - loss: 0.3627 - acc: 1.0000\n",
      "Epoch 69/100\n",
      " - 0s - loss: 0.3589 - acc: 1.0000\n",
      "Epoch 70/100\n",
      " - 0s - loss: 0.3550 - acc: 1.0000\n",
      "Epoch 71/100\n",
      " - 0s - loss: 0.3511 - acc: 1.0000\n",
      "Epoch 72/100\n",
      " - 0s - loss: 0.3471 - acc: 1.0000\n",
      "Epoch 73/100\n",
      " - 0s - loss: 0.3433 - acc: 1.0000\n",
      "Epoch 74/100\n",
      " - 0s - loss: 0.3392 - acc: 1.0000\n",
      "Epoch 75/100\n",
      " - 0s - loss: 0.3351 - acc: 1.0000\n",
      "Epoch 76/100\n",
      " - 0s - loss: 0.3310 - acc: 1.0000\n",
      "Epoch 77/100\n",
      " - 0s - loss: 0.3269 - acc: 1.0000\n",
      "Epoch 78/100\n",
      " - 0s - loss: 0.3229 - acc: 1.0000\n",
      "Epoch 79/100\n",
      " - 0s - loss: 0.3188 - acc: 1.0000\n",
      "Epoch 80/100\n",
      " - 0s - loss: 0.3147 - acc: 1.0000\n",
      "Epoch 81/100\n",
      " - 0s - loss: 0.3107 - acc: 1.0000\n",
      "Epoch 82/100\n",
      " - 0s - loss: 0.3067 - acc: 1.0000\n",
      "Epoch 83/100\n",
      " - 0s - loss: 0.3027 - acc: 1.0000\n",
      "Epoch 84/100\n",
      " - 0s - loss: 0.2988 - acc: 1.0000\n",
      "Epoch 85/100\n",
      " - 0s - loss: 0.2947 - acc: 1.0000\n",
      "Epoch 86/100\n",
      " - 0s - loss: 0.2908 - acc: 1.0000\n",
      "Epoch 87/100\n",
      " - 0s - loss: 0.2870 - acc: 1.0000\n",
      "Epoch 88/100\n",
      " - 0s - loss: 0.2830 - acc: 1.0000\n",
      "Epoch 89/100\n",
      " - 0s - loss: 0.2793 - acc: 1.0000\n",
      "Epoch 90/100\n",
      " - 0s - loss: 0.2755 - acc: 1.0000\n",
      "Epoch 91/100\n",
      " - 0s - loss: 0.2718 - acc: 1.0000\n",
      "Epoch 92/100\n",
      " - 0s - loss: 0.2680 - acc: 1.0000\n",
      "Epoch 93/100\n",
      " - 0s - loss: 0.2643 - acc: 1.0000\n",
      "Epoch 94/100\n",
      " - 0s - loss: 0.2607 - acc: 1.0000\n",
      "Epoch 95/100\n",
      " - 0s - loss: 0.2572 - acc: 1.0000\n",
      "Epoch 96/100\n",
      " - 0s - loss: 0.2537 - acc: 1.0000\n",
      "Epoch 97/100\n",
      " - 0s - loss: 0.2503 - acc: 1.0000\n",
      "Epoch 98/100\n",
      " - 0s - loss: 0.2470 - acc: 1.0000\n",
      "Epoch 99/100\n",
      " - 0s - loss: 0.2436 - acc: 1.0000\n",
      "Epoch 100/100\n",
      " - 0s - loss: 0.2404 - acc: 1.0000\n"
     ]
    },
    {
     "data": {
      "text/plain": [
       "<keras.callbacks.History at 0x7ff4fc157080>"
      ]
     },
     "execution_count": 14,
     "metadata": {},
     "output_type": "execute_result"
    }
   ],
   "source": [
    "deep_model.compile(optimizer='adam',\n",
    "                   loss='categorical_crossentropy',\n",
    "                   metrics=['accuracy'])\n",
    "\n",
    "deep_model.fit(\n",
    "    X_train_scaled,\n",
    "    y_train_categorical,\n",
    "    epochs=100,\n",
    "    shuffle=True,\n",
    "    verbose=2\n",
    ")"
   ]
  },
  {
   "cell_type": "markdown",
   "metadata": {},
   "source": [
    "## Compare the Models Below"
   ]
  },
  {
   "cell_type": "code",
   "execution_count": 15,
   "metadata": {},
   "outputs": [
    {
     "name": "stdout",
     "output_type": "stream",
     "text": [
      "Normal Neural Network - Loss: 0.6160789728164673, Accuracy: 0.6399999856948853\n"
     ]
    }
   ],
   "source": [
    "model_loss, model_accuracy = model.evaluate(X_test_scaled, y_test_categorical, verbose=2)\n",
    "print(f\"Normal Neural Network - Loss: {model_loss}, Accuracy: {model_accuracy}\")"
   ]
  },
  {
   "cell_type": "code",
   "execution_count": 16,
   "metadata": {},
   "outputs": [
    {
     "name": "stdout",
     "output_type": "stream",
     "text": [
      "Deep Neural Network - Loss: 0.2645045220851898, Accuracy: 1.0\n"
     ]
    }
   ],
   "source": [
    "model_loss, model_accuracy = deep_model.evaluate(\n",
    "    X_test_scaled, y_test_categorical, verbose=2)\n",
    "print(f\"Deep Neural Network - Loss: {model_loss}, Accuracy: {model_accuracy}\")"
   ]
  },
  {
   "cell_type": "markdown",
   "metadata": {},
   "source": [
    "## In a nutshell..."
   ]
  },
  {
   "cell_type": "markdown",
   "metadata": {},
   "source": [
    "![stack more layers](../../../images/stack-more-layers.jpg)"
   ]
  },
  {
   "cell_type": "code",
   "execution_count": null,
   "metadata": {},
   "outputs": [],
   "source": []
  }
 ],
 "metadata": {
  "kernelspec": {
   "display_name": "Python 3",
   "language": "python",
   "name": "python3"
  },
  "language_info": {
   "codemirror_mode": {
    "name": "ipython",
    "version": 3
   },
   "file_extension": ".py",
   "mimetype": "text/x-python",
   "name": "python",
   "nbconvert_exporter": "python",
   "pygments_lexer": "ipython3",
   "version": "3.6.5"
  }
 },
 "nbformat": 4,
 "nbformat_minor": 2
}
